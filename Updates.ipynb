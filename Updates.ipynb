{
 "cells": [
  {
   "cell_type": "markdown",
   "metadata": {},
   "source": [
    "### Metin Okumada Tekrar Eden Yazıları Kaldırma"
   ]
  },
  {
   "cell_type": "code",
   "execution_count": 20,
   "metadata": {},
   "outputs": [
    {
     "name": "stdout",
     "output_type": "stream",
     "text": [
      "Canımın içi, böyle şeyler yalnızca romanlarda olur. 40 CÜNEYT ARKIN [Stki Dur Geliyorum, 1964\n"
     ]
    }
   ],
   "source": [
    "from difflib import SequenceMatcher\n",
    "\n",
    "list_of_findings = [\n",
    "\"Canımın içi, böyle şeyler yalnızca\",\n",
    "\"romanlarda olur.\",\n",
    "\"40\",\n",
    "\"CÜNEYT ARKIN\",\n",
    "\"[Stki Dur Geliyorum, 1964\",\n",
    "\n",
    "\"Canımın\",\n",
    "\"içi,\",\n",
    "\"böyle\",\n",
    "\"şeyler\",\n",
    "\"yalnızca\",\n",
    "\"romanlarda\",\n",
    "\"olur.\",\n",
    "\"40\",\n",
    "\"CÜNEYT\",\n",
    "\"ARKIN\",\n",
    "\"[Stki\",\n",
    "\"Dur\",\n",
    "\"Geliyorum,\",\n",
    "\"1964\"]\n",
    "\n",
    "list_of_findings.reverse()\n",
    "new_list_of_findings = []\n",
    "\n",
    "for i in range(0, len(list_of_findings)-1):\n",
    "    statu = True\n",
    "    for j in range(i+1, len(list_of_findings)):\n",
    "        if list_of_findings[i] in list_of_findings[j]:\n",
    "            statu = False\n",
    "            break\n",
    "    if statu:\n",
    "        new_list_of_findings.append(list_of_findings[i])\n",
    "        \n",
    "new_list_of_findings.append(list_of_findings[-1])\n",
    "new_list_of_findings.reverse()\n",
    "\n",
    "print(' '.join(new_list_of_findings))"
   ]
  },
  {
   "cell_type": "markdown",
   "metadata": {},
   "source": [
    "### Gereksiz Labellerin Elenmesi"
   ]
  },
  {
   "cell_type": "code",
   "execution_count": 18,
   "metadata": {},
   "outputs": [
    {
     "name": "stdout",
     "output_type": "stream",
     "text": [
      "Eskisi:\n",
      " ['Rough-toothed dolphin', 'Tucuxi', 'Marine biology', 'Cetacea', 'Short-beaked common dolphin', 'Bottlenose dolphin', 'Dolphin', 'Marine mammal', 'Common bottlenose dolphin', 'Vertebrate']\n",
      "Yenisi:\n",
      " ['Vertebrate', 'Common bottlenose dolphin', 'Marine mammal', 'Tucuxi']\n"
     ]
    }
   ],
   "source": [
    "from difflib import SequenceMatcher\n",
    "\n",
    "list_of_findings = [\"Vertebrate\", \"Common bottlenose dolphin\", \"Marine mammal\", \"Dolphin\", \"Bottlenose dolphin\",\n",
    "                    \"Short-beaked common dolphin\", \"Cetacea\", \"Marine biology\", \"Tucuxi\", \"Rough-toothed dolphin\"]\n",
    "list_of_findings.reverse()\n",
    "new_list_of_findings = []\n",
    "\n",
    "for i in range(0, len(list_of_findings)-1):\n",
    "    statu = True\n",
    "    for j in range(i+1, len(list_of_findings)):\n",
    "        s = SequenceMatcher(None, list_of_findings[i], list_of_findings[j])\n",
    "        score = s.ratio()\n",
    "        if score > 0.2:\n",
    "            statu = False\n",
    "            break\n",
    "    if statu:\n",
    "        new_list_of_findings.append(list_of_findings[i])\n",
    "new_list_of_findings.append(list_of_findings[-1])\n",
    "new_list_of_findings.reverse()\n",
    "\n",
    "print(\"Eskisi:\\n\", list_of_findings)\n",
    "print(\"Yenisi:\\n\", new_list_of_findings)"
   ]
  },
  {
   "cell_type": "code",
   "execution_count": null,
   "metadata": {},
   "outputs": [],
   "source": []
  }
 ],
 "metadata": {
  "kernelspec": {
   "display_name": "Python 3",
   "language": "python",
   "name": "python3"
  },
  "language_info": {
   "codemirror_mode": {
    "name": "ipython",
    "version": 3
   },
   "file_extension": ".py",
   "mimetype": "text/x-python",
   "name": "python",
   "nbconvert_exporter": "python",
   "pygments_lexer": "ipython3",
   "version": "3.7.4"
  }
 },
 "nbformat": 4,
 "nbformat_minor": 2
}
